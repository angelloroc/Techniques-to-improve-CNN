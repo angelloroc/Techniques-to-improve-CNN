{
 "cells": [
  {
   "attachments": {},
   "cell_type": "markdown",
   "metadata": {},
   "source": [
    "### Install Libraries"
   ]
  },
  {
   "cell_type": "code",
   "execution_count": 1,
   "metadata": {},
   "outputs": [],
   "source": [
    "import tensorflow as tf\n",
    "import numba "
   ]
  },
  {
   "cell_type": "code",
   "execution_count": 2,
   "metadata": {},
   "outputs": [
    {
     "data": {
      "text/plain": [
       "'0.56.4'"
      ]
     },
     "execution_count": 2,
     "metadata": {},
     "output_type": "execute_result"
    }
   ],
   "source": [
    "# tf.__version__\n",
    "numba.__version__\n"
   ]
  },
  {
   "attachments": {},
   "cell_type": "markdown",
   "metadata": {},
   "source": [
    "###  GPU - CPU test\n",
    "you can see the code complete here: https://medium.com/geekculture/executing-a-python-script-on-gpu-using-cuda-and-numba-in-windows-10-1a1b10c29c9"
   ]
  },
  {
   "cell_type": "code",
   "execution_count": 4,
   "metadata": {},
   "outputs": [
    {
     "name": "stdout",
     "output_type": "stream",
     "text": [
      "without GPU: 3.9737764000001334\n",
      "with GPU: 0.236420900000212\n"
     ]
    }
   ],
   "source": [
    "from numba import jit\n",
    "from numba import cuda\n",
    "\n",
    "import numpy as np\n",
    "from timeit import default_timer as timer\n",
    "# To run on CPU\n",
    "def func(a):\n",
    "    for i in range(10000000):\n",
    "        a[i]+= 1\n",
    "# To run on GPU\n",
    "@jit\n",
    "def func2(x):\n",
    "    return x+1\n",
    "if __name__==\"__main__\":\n",
    "    n = 10000000\n",
    "    a = np.ones(n, dtype = np.float64)\n",
    "    start = timer()\n",
    "    func(a)\n",
    "    print(\"without GPU:\", timer()-start)\n",
    "    start = timer()\n",
    "    func2(a)\n",
    "    numba.cuda.profile_stop()\n",
    "    print(\"with GPU:\", timer()-start)\n",
    "\n"
   ]
  },
  {
   "cell_type": "code",
   "execution_count": null,
   "metadata": {},
   "outputs": [],
   "source": []
  }
 ],
 "metadata": {
  "kernelspec": {
   "display_name": "deeplearning",
   "language": "python",
   "name": "python3"
  },
  "language_info": {
   "codemirror_mode": {
    "name": "ipython",
    "version": 3
   },
   "file_extension": ".py",
   "mimetype": "text/x-python",
   "name": "python",
   "nbconvert_exporter": "python",
   "pygments_lexer": "ipython3",
   "version": "3.10.9"
  },
  "orig_nbformat": 4,
  "vscode": {
   "interpreter": {
    "hash": "6089aca65f867c8fb1e08b5b4f77829eb7c070fbe653f15230deda5bc54caea6"
   }
  }
 },
 "nbformat": 4,
 "nbformat_minor": 2
}
